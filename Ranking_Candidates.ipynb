{
 "cells": [
  {
   "cell_type": "markdown",
   "id": "ccfe04cb-882a-4e56-a5e3-7d8d886078c0",
   "metadata": {},
   "source": [
    "## Potential Talents Search - Candidates Ranking\n",
    "As a talent sourcing and management company, we are interested in finding talented individuals for sourcing these candidates to technology companies. Finding talented candidates is not easy, for several reasons. The first reason is one needs to understand what the role is very well to fill in that spot, this requires understanding the client’s needs and what they are looking for in a potential candidate. The second reason is one needs to understand what makes a candidate shine for the role we are in search for. Third, where to find talented individuals is another challenge.\n",
    "\n",
    "The nature of our job requires a lot of human labor and is full of manual operations. Towards automating this process we want to build a better approach that could save us time and finally help us spot potential candidates that could fit the roles we are in search for. Moreover, going beyond that for a specific role we want to fill in we are interested in developing a machine learning powered pipeline that could spot talented individuals, and rank them based on their fitness.\n",
    "\n",
    "We are right now semi-automatically sourcing a few candidates, therefore the sourcing part is not a concern at this time but we expect to first determine best matching candidates based on how fit these candidates are for a given role. We generally make these searches based on some keywords such as “full-stack software engineer”, “engineering manager” or “aspiring human resources” based on the role we are trying to fill in. These keywords might change, and you can expect that specific keywords will be provided to you.\n",
    "\n",
    "Assuming that we were able to list and rank fitting candidates, we then employ a review procedure, as each candidate needs to be reviewed and then determined how good a fit they are through manual inspection. This procedure is done manually and at the end of this manual review, we might choose not the first fitting candidate in the list but maybe the 7th candidate in the list. If that happens, we are interested in being able to re-rank the previous list based on this information. This supervisory signal is going to be supplied by starring the 7th candidate in the list. Starring one candidate actually sets this candidate as an ideal candidate for the given role. Then, we expect the list to be re-ranked each time a candidate is starred.\n",
    "\n",
    "### Data Description:\n",
    "\n",
    "The data comes from our sourcing efforts. We removed any field that could directly reveal personal details and gave a unique identifier for each candidate.\n",
    "\n",
    "**Attributes:**\n",
    "- id : unique identifier for candidate (numeric)\n",
    "- job_title : job title for candidate (text)\n",
    "- location : geographical location for candidate (text)\n",
    "- connections: number of connections candidate has, 500+ means over 500 (text)\n",
    "\n",
    "### Output (desired target):\n",
    "fit - how fit the candidate is for the role? (numeric, probability between 0-1)\n",
    "\n",
    "***Keywords:*** “Aspiring human resources” or “seeking human resources”\n"
   ]
  },
  {
   "cell_type": "markdown",
   "id": "153a4ee3-3870-47e2-aa0c-a387e33e3eda",
   "metadata": {},
   "source": [
    "### Goal:\n",
    "Predict how fit the candidate is based on their available information (variable fit)\n",
    "\n",
    "### Success Metrics:\n",
    "- Rank candidates based on a fitness score.\n",
    "- Re-rank candidates when a candidate is starred.\n",
    "\n",
    "### Bonuses:\n",
    "- We are interested in a robust algorithm, tell us how your solution works and show us how your ranking gets better with each starring action.\n",
    "- How can we filter out candidates which in the first place should not be in this list?\n",
    "- Can we determine a cut-off point that would work for other roles without losing high potential candidates?\n",
    "- Do you have any ideas that we should explore so that we can even automate this procedure to prevent human bias?"
   ]
  },
  {
   "cell_type": "markdown",
   "id": "02514a02-e0b1-4c4c-983b-c2c98512d76e",
   "metadata": {},
   "source": [
    "### Importing Libraries"
   ]
  },
  {
   "cell_type": "code",
   "execution_count": 1,
   "id": "776b44ab-1fdc-439e-bc89-0a4221b5008c",
   "metadata": {},
   "outputs": [],
   "source": [
    "# Import packages\n",
    "import pandas as pd\n",
    "import numpy as np\n",
    "\n",
    "import matplotlib.pyplot as plt\n",
    "import seaborn as sns\n",
    "\n",
    "# Import itertools for combinations\n",
    "from itertools import combinations\n",
    "\n",
    "# Import tensorflow and keras packages\n",
    "import tensorflow as tf\n",
    "from tensorflow.keras import layers, activations, Model, Input\n",
    "from tensorflow.nn import leaky_relu\n",
    "from tensorflow.keras.utils import plot_model, Progbar"
   ]
  },
  {
   "cell_type": "markdown",
   "id": "8f7557de-c209-4c4a-b1ff-54a3c45b945a",
   "metadata": {},
   "source": [
    "### Loading the data"
   ]
  },
  {
   "cell_type": "code",
   "execution_count": 2,
   "id": "2cb2df32-f0bd-4312-a1ed-a237648a0fc3",
   "metadata": {},
   "outputs": [
    {
     "data": {
      "text/html": [
       "<div>\n",
       "<style scoped>\n",
       "    .dataframe tbody tr th:only-of-type {\n",
       "        vertical-align: middle;\n",
       "    }\n",
       "\n",
       "    .dataframe tbody tr th {\n",
       "        vertical-align: top;\n",
       "    }\n",
       "\n",
       "    .dataframe thead th {\n",
       "        text-align: right;\n",
       "    }\n",
       "</style>\n",
       "<table border=\"1\" class=\"dataframe\">\n",
       "  <thead>\n",
       "    <tr style=\"text-align: right;\">\n",
       "      <th></th>\n",
       "      <th>job_title</th>\n",
       "      <th>location</th>\n",
       "      <th>connection</th>\n",
       "      <th>fit</th>\n",
       "    </tr>\n",
       "    <tr>\n",
       "      <th>id</th>\n",
       "      <th></th>\n",
       "      <th></th>\n",
       "      <th></th>\n",
       "      <th></th>\n",
       "    </tr>\n",
       "  </thead>\n",
       "  <tbody>\n",
       "    <tr>\n",
       "      <th>1</th>\n",
       "      <td>2019 C.T. Bauer College of Business Graduate (...</td>\n",
       "      <td>Houston, Texas</td>\n",
       "      <td>85</td>\n",
       "      <td>NaN</td>\n",
       "    </tr>\n",
       "    <tr>\n",
       "      <th>2</th>\n",
       "      <td>Native English Teacher at EPIK (English Progra...</td>\n",
       "      <td>Kanada</td>\n",
       "      <td>500+</td>\n",
       "      <td>NaN</td>\n",
       "    </tr>\n",
       "    <tr>\n",
       "      <th>3</th>\n",
       "      <td>Aspiring Human Resources Professional</td>\n",
       "      <td>Raleigh-Durham, North Carolina Area</td>\n",
       "      <td>44</td>\n",
       "      <td>NaN</td>\n",
       "    </tr>\n",
       "    <tr>\n",
       "      <th>4</th>\n",
       "      <td>People Development Coordinator at Ryan</td>\n",
       "      <td>Denton, Texas</td>\n",
       "      <td>500+</td>\n",
       "      <td>NaN</td>\n",
       "    </tr>\n",
       "    <tr>\n",
       "      <th>5</th>\n",
       "      <td>Advisory Board Member at Celal Bayar University</td>\n",
       "      <td>İzmir, Türkiye</td>\n",
       "      <td>500+</td>\n",
       "      <td>NaN</td>\n",
       "    </tr>\n",
       "  </tbody>\n",
       "</table>\n",
       "</div>"
      ],
      "text/plain": [
       "                                            job_title  \\\n",
       "id                                                      \n",
       "1   2019 C.T. Bauer College of Business Graduate (...   \n",
       "2   Native English Teacher at EPIK (English Progra...   \n",
       "3               Aspiring Human Resources Professional   \n",
       "4              People Development Coordinator at Ryan   \n",
       "5     Advisory Board Member at Celal Bayar University   \n",
       "\n",
       "                               location connection  fit  \n",
       "id                                                       \n",
       "1                        Houston, Texas         85  NaN  \n",
       "2                                Kanada      500+   NaN  \n",
       "3   Raleigh-Durham, North Carolina Area         44  NaN  \n",
       "4                         Denton, Texas      500+   NaN  \n",
       "5                        İzmir, Türkiye      500+   NaN  "
      ]
     },
     "execution_count": 2,
     "metadata": {},
     "output_type": "execute_result"
    }
   ],
   "source": [
    "# Load dataset\n",
    "df = pd.read_csv('datasets/potential_talents.csv', index_col = 'id')\n",
    "\n",
    "# Inspect data\n",
    "df.head()"
   ]
  },
  {
   "cell_type": "markdown",
   "id": "e4276f10-427f-4f6e-8921-f6ab6b6cc0d7",
   "metadata": {},
   "source": [
    "### Exploring the data\n",
    "For this project only *'job_title'* column is useful of the dataset, as it requires only text data. Rest of the data is useless for this task. However I decided to explore if It will be possible to gather any data from it.  \n",
    "First I explore connections:"
   ]
  },
  {
   "cell_type": "code",
   "execution_count": 3,
   "id": "d6715863-3c2a-4cda-a30d-1b125c65e642",
   "metadata": {},
   "outputs": [
    {
     "data": {
      "text/plain": [
       "array(['85', '500+ ', '44', '1', '61', '2', '390', '57', '82', '5', '7',\n",
       "       '16', '212', '409', '52', '455', '174', '268', '50', '4', '40',\n",
       "       '18', '349', '155', '39', '64', '9', '415', '19', '71', '48',\n",
       "       '103', '49'], dtype=object)"
      ]
     },
     "execution_count": 3,
     "metadata": {},
     "output_type": "execute_result"
    }
   ],
   "source": [
    "# Unique values in connections column\n",
    "df.connection.unique()"
   ]
  },
  {
   "cell_type": "markdown",
   "id": "5104fd0a-c6a5-49ba-8c03-3659008e756f",
   "metadata": {},
   "source": [
    "There are not many unique values in this column. As it needs further investigation, the plot of counts of connections is built."
   ]
  },
  {
   "cell_type": "code",
   "execution_count": 4,
   "id": "5fad51cb-a53b-4399-b4dd-4394d4a79414",
   "metadata": {},
   "outputs": [
    {
     "data": {
      "image/png": "[encoded data removed]",
      "text/plain": [
       "<Figure size 864x504 with 1 Axes>"
      ]
     },
     "metadata": {
      "needs_background": "light"
     },
     "output_type": "display_data"
    }
   ],
   "source": [
    "# Build histogram of number of connections\n",
    "plt.figure(figsize = [12,7])\n",
    "sns.set_style(\"darkgrid\")\n",
    "sns.histplot(df.connection.replace({'500+ ':'501'}).apply(int), bins = 10)\n",
    "plt.xlabel(\"Connections\")\n",
    "plt.title(\"Number of connections histogram\")\n",
    "plt.show()"
   ]
  },
  {
   "cell_type": "markdown",
   "id": "19a24777-f733-4c15-bf2e-8f91a592fff3",
   "metadata": {},
   "source": [
    "From chart its clear that most of candidates have over 500 connections. However, if group all people with conncetion under 100, they will be majority.  \n",
    "Another interesting parameter to check is location of candidates. "
   ]
  },
  {
   "cell_type": "code",
   "execution_count": 5,
   "id": "a24be8d5-faa0-43c0-b1fa-24d2604ab49c",
   "metadata": {},
   "outputs": [
    {
     "data": {
      "text/plain": [
       "array(['Houston, Texas', 'Kanada', 'Raleigh-Durham, North Carolina Area',\n",
       "       'Denton, Texas', 'İzmir, Türkiye', 'Greater New York City Area',\n",
       "       'San Francisco Bay Area', 'Greater Philadelphia Area',\n",
       "       'Lake Forest, California', 'Houston, Texas Area',\n",
       "       'Atlanta, Georgia', 'Chicago, Illinois', 'Austin, Texas Area',\n",
       "       'Jackson, Mississippi Area', 'Greater Grand Rapids, Michigan Area',\n",
       "       'Virginia Beach, Virginia', 'Monroe, Louisiana Area',\n",
       "       'Greater Boston Area', 'San Jose, California',\n",
       "       'New York, New York', 'Dallas/Fort Worth Area',\n",
       "       'Amerika Birleşik Devletleri', 'Baton Rouge, Louisiana Area',\n",
       "       'Myrtle Beach, South Carolina Area', 'Chattanooga, Tennessee Area',\n",
       "       'Los Angeles, California', 'Highland, California',\n",
       "       'Gaithersburg, Maryland', 'Baltimore, Maryland',\n",
       "       'Milpitas, California', 'Greater Atlanta Area',\n",
       "       'Greater Chicago Area', 'Torrance, California',\n",
       "       'Long Beach, California', 'Bridgewater, Massachusetts',\n",
       "       'Lafayette, Indiana', 'Kokomo, Indiana Area',\n",
       "       'Las Vegas, Nevada Area', 'Cape Girardeau, Missouri',\n",
       "       'Greater Los Angeles Area', 'Katy, Texas'], dtype=object)"
      ]
     },
     "execution_count": 5,
     "metadata": {},
     "output_type": "execute_result"
    }
   ],
   "source": [
    "# Print unique values in location parameter\n",
    "df.location.unique()"
   ]
  },
  {
   "cell_type": "markdown",
   "id": "63f55e2b-0c07-478b-b0d8-7414cd40d790",
   "metadata": {},
   "source": [
    "Majority of candidates are from US, however the writing of location is inconsistent in many places. For some candidates location is town and state, while for other it is just a country. Ideally this data should be converted to one format (city, state, country or zip code) to be used.\n",
    "\n",
    "I noticed that there are some duplicating entries in dataset, and decided to drop them:"
   ]
  },
  {
   "cell_type": "code",
   "execution_count": 6,
   "id": "271f16ee-ef1e-420b-8ae8-fdb565252abd",
   "metadata": {},
   "outputs": [
    {
     "name": "stdout",
     "output_type": "stream",
     "text": [
      "shape before: (104, 4)\n",
      "shape after: (53, 4)\n"
     ]
    }
   ],
   "source": [
    "# Drop duplicates\n",
    "print(\"shape before:\", df.shape)\n",
    "df.drop_duplicates(inplace = True)\n",
    "print(\"shape after:\", df.shape)\n",
    "\n",
    "# Reset index\n",
    "df.reset_index(drop = True, inplace = True)"
   ]
  },
  {
   "cell_type": "markdown",
   "id": "36039fc4-ebd3-4454-93c2-61acc7433060",
   "metadata": {},
   "source": [
    "It appeared to be that half of entries are duplicating each other. So, the dataframe is half the size of original now.\n",
    "\n",
    "## Cleaning the data\n",
    "The main parameter in dataframe is `job_title`. However data in it is in raw form, it has commas, periods and other punctuation marks. As the split of sentences is done based on \"space\", these punctuation marks will disturb converting of words to word vectors. Regular **split()** method will not separate them from words. And when I will feed it to the word map, words wont be found in dictionary. It will decrease the content quality of my word vectors as not all words will be catched\n",
    "\n",
    "Also some `job_titles` contain abbreviations that are important. It is necessary to preserve this information, so abbreviations must be replaced.\n",
    "\n",
    "First I need to clean the `job_title` column from dots, commas, etc using `regex`. \n",
    "\n"
   ]
  },
  {
   "cell_type": "code",
   "execution_count": 7,
   "id": "2d45abbb-92a9-4330-b66a-9bf544cfef6a",
   "metadata": {},
   "outputs": [],
   "source": [
    "# Use regex to clean text and put it into 'job_title_cleaned' column \n",
    "df[\"job_title_cleaned\"] = df[\"job_title\"].str.replace(\"[+*,.|()${}&\\-'!]\", \" \", regex = True)"
   ]
  },
  {
   "cell_type": "markdown",
   "id": "65a9604e-6eba-4f3f-9bda-ee8c2f866413",
   "metadata": {},
   "source": [
    "Next I check all unique words in my dataset to see if there are any abbreviations or anything else that can create problems in training model"
   ]
  },
  {
   "cell_type": "code",
   "execution_count": 8,
   "id": "12d15100-b5f7-4e9e-977c-b26925d27b2a",
   "metadata": {},
   "outputs": [
    {
     "name": "stdout",
     "output_type": "stream",
     "text": [
      "{'Woodlands', 'at', 'Opportunities', 'Guard', 'Customer', 'Passionate', 'Talent', 'Representative', 'a', 'Student', 'Schwan', 'leader', 'Team', 'Kokomo', 'ScottMadden', 'Executive', 'within', 'Bayar', 'Tobacco', 'is', 'Brand', 'Celal', 'Senior', 'Marketing', 'ENGIE', 'EY', 'Buckhead', 'Loparex', 'Intelligence', 'medical', 'Houston', 'Inc', 'Business', 'relocation', 'and', 'Analyst', 'Staffing', 'engaging', 'Delphi', 'Paint', 'Science', 's', 'Styczynski', 'for', 'International', 'Generalist', 'English', 'data', 'Louis', 'America', 'May', 'St', 'SVP', 'Teacher', '2020', 'Environmental', 'from', 'Excellence', 'Program', 'Systems', 'Officer', 'them', 'Recruiter', 'Seeking', 'National', 'Japan', 'Wellington', 'the', 'North', 'Atlanta', 'Procedures', 'State', 'Retired', 'An', 'Aspiring', 'Major', 'Hardware', 'work', '2621', 'Victoria', 'Partner', 'travel', 'or', 'Director', 'Retail', 'Positions', 'an', 'Beneteau', 'inclusive', 'helping', '709', 'T', 'employment', 'Recruiting', 'Success', 'Energy', 'HRIS', 'in', 'Arts', 'office', 'Logging', 'Biology', 'Development', 'GPHR', 'set', 'organization', 'Conflict', 'People', 'Engineer', 'Undergraduate', 'Admissions', 'Magna', 'up', 'CHRO', 'Endemol', 'CSR', 'Position', 'about', 'student', 'Payroll', 'MES', 'Focused', 'Cum', 'HR', 'Luxottica', 'to', 'environment', 'Care', 'Always', 'opportunities', 'Travelers', 'Bauer', 'Bachelor', 'Groupe', 'create', 'long', 'position', 'EPIK', 'The', 'Compensation', 'Korea', 'Communications', 'Portfolio', 'with', 'Chapman', 'Professional', 'University', 'Native', 'College', 'C', 'Of', 'Administration', 'Laude', 'Board', 'Experienced', 'energetic', 'Liberal', 'Graduating', 'Patient', 'Manager', 'Heil', 'Level', 'Programmer', 'Community', '408', 'Shine', 'center', 'of', 'Policies', 'Specialist', 'internship', 'Ryan', 'world', 'Nortia', 'manager', 'Official', 'Advisory', 'Service', 'Army', 'Resources', 'Graduate', 'Human', 'Assistant', 'Professionals', 'JTI', 'InterContinental', 'beach', 'Leader', 'software', 'Research', 'Coordinator', 'Humber', 'Information', 'Administrative', 'Westfield', 'Management', 'Analytics', 'Entry', '2019', 'GIS', 'SPHR', 'aspiring', 'seeking', 'Lab', 'Open', 'Junior', 'Lead', 'Western', 'Indiana', 'Member', 'Illinois', 'Benefits', 'RRP', 'professional', 'love'}\n"
     ]
    }
   ],
   "source": [
    "# Gather all words used in job titles for review\n",
    "print(set(df[\"job_title_cleaned\"].str.split().agg(sum, axis = 0)))"
   ]
  },
  {
   "cell_type": "markdown",
   "id": "f3349279-bda9-4f64-820b-3311a4fc49f2",
   "metadata": {},
   "source": [
    "There are some abbreviations that might mean something important like:\n",
    "* CHRO\n",
    "* GPHR\n",
    "* SPHR\n",
    "* HR\n",
    "* HRIS\n",
    "\n",
    "I am familiar with abbreviation of HR - human resources, and it is very important feature. I replaced these abbreviations to proper values from google"
   ]
  },
  {
   "cell_type": "code",
   "execution_count": 9,
   "id": "9155cac7-97bf-49fe-a448-59d00677d027",
   "metadata": {},
   "outputs": [],
   "source": [
    "# Replace string values in dataframe\n",
    "df[\"job_title_cleaned\"] = df[\"job_title_cleaned\"].str.replace(\"CHRO\", \" chief human resources officer \")\n",
    "df[\"job_title_cleaned\"] = df[\"job_title_cleaned\"].str.replace(\"GPHR\", \" global professional in human resources \")\n",
    "df[\"job_title_cleaned\"] = df[\"job_title_cleaned\"].str.replace(\"SPHR\", \" senior professional in human resources \")\n",
    "df[\"job_title_cleaned\"] = df[\"job_title_cleaned\"].str.replace(\"HRIS\", \" human resources information system \")\n",
    "df[\"job_title_cleaned\"] = df[\"job_title_cleaned\"].str.replace(\"HR\", \" human resources \")"
   ]
  },
  {
   "cell_type": "markdown",
   "id": "1553cd17-6bd1-4f79-b484-0f658990f466",
   "metadata": {},
   "source": [
    "After I cleaned my input text, it is time to convert sentences to the word vectors that best represent them.\n",
    "\n",
    "## Work with text"
   ]
  },
  {
   "cell_type": "markdown",
   "id": "d102369d-7681-4f4a-823b-174589414713",
   "metadata": {},
   "source": [
    "I decided to approach this project using word embedding vectors.\n",
    "- First I will convert each word in sentence to a vector. \n",
    "- Then I will get an average vector for the sentence.\n",
    "- And, finally compare each sentence to my keyword sentences.  \n",
    "\n",
    "To work with this text I chose `glove` word embeddings with 50-dimension. I chose the lowest dimension of glove to check the theory if it works. And if it will be successful higer dimension vectors might be tested.  \n",
    "First I need to write a function that reads the **glove** file and transfers it's content to a dictionary named `words_vector_map`"
   ]
  },
  {
   "cell_type": "code",
   "execution_count": 10,
   "id": "658043b9-dc0f-4526-880d-fa9e3dea8dd1",
   "metadata": {},
   "outputs": [],
   "source": [
    "# Create a function that reads a file and returns dictionary wher keys are words and values are vectors\n",
    "def read_glove(glove_file):\n",
    "    # open word vector file\n",
    "    with open(glove_file, \"r\") as f:\n",
    "        words_vector_map = {}\n",
    "        \n",
    "        # read each line of file and put it into dictionary\n",
    "        for line in f:\n",
    "            line = line.strip().split()\n",
    "            words_vector_map[line[0]] = np.array(line[1:], dtype = np.float64)\n",
    "    return(words_vector_map)"
   ]
  },
  {
   "cell_type": "code",
   "execution_count": 11,
   "id": "5cda3b40-35a6-429a-8eec-254e746ae16d",
   "metadata": {},
   "outputs": [],
   "source": [
    "# Create words vector map\n",
    "words_vector_map = read_glove(\"utils/glove.6B.50d.txt\")"
   ]
  },
  {
   "cell_type": "markdown",
   "id": "ad6951d0-6e82-4c61-8add-04b6603d035d",
   "metadata": {},
   "source": [
    "Next I convert sentences to the word vectors that best represent them. I will do it by taking average of all words vectors that are in each given sentence. Following steps should be performed:\n",
    "- Covert each sentence to list of words\n",
    "- For each of these words, if word is in *words dictionary* get it's value\n",
    "- Get average of all words in sentence"
   ]
  },
  {
   "cell_type": "code",
   "execution_count": 12,
   "id": "6cee506b-402c-4b2e-b483-3735025b9ffd",
   "metadata": {},
   "outputs": [],
   "source": [
    "# Create function that converts sentence to average vector\n",
    "def sentence_to_avg(sentence, words_vector_map):\n",
    "    # Initialize array of zeros of size of word vector\n",
    "    shp = words_vector_map[list(words_vector_map.keys())[0]].shape\n",
    "    s = np.zeros(shp) \n",
    "    \n",
    "    # Strip sentence, change to lower case letters and split into words\n",
    "    sentence = sentence.strip().lower().split()\n",
    "    count = 0\n",
    "    \n",
    "    # Loop through words in sentence\n",
    "    for word in sentence:\n",
    "        # Check if word is in words_vector_map\n",
    "        if word in words_vector_map:\n",
    "            s += words_vector_map[word]\n",
    "            count += 1\n",
    "    # Return average by dividing sum to number of words \n",
    "    return(s/count)"
   ]
  },
  {
   "cell_type": "markdown",
   "id": "1596595b-1f84-47ec-83b9-4a058dd2e40b",
   "metadata": {},
   "source": [
    "To measure the similarity between two sentences, I need a way to measure the degree of similarity between two embedding vectors for the two sentences. Given two vectors *u* and *v*, cosine similarity is defined as follows:\n",
    "\n",
    "$$\\text{CosineSimilarity(u, v)} = \\frac {u \\cdot v} {||u||_2 ||v||_2} $$\n",
    "\n",
    "* $u \\cdot v$ is the dot product (or inner product) of two vectors\n",
    "* $||u||_2$ is the norm (or length) of the vector $u$\n",
    "\n",
    "The norm of $u$ is defined as $ ||u||_2 = \\sqrt{\\sum_{i=1}^{n} u_i^2}$"
   ]
  },
  {
   "cell_type": "code",
   "execution_count": 13,
   "id": "5b8c4c25-3a56-4517-8379-dafae88646f8",
   "metadata": {},
   "outputs": [],
   "source": [
    "def cos_similarity(u, v):\n",
    "    # Dot product\n",
    "    dp = np.dot(u, v)\n",
    "    \n",
    "    # Norms of u and v\n",
    "    norm_u = np.sqrt(np.sum(u**2))\n",
    "    norm_v = np.sqrt(np.sum(v**2))\n",
    "    \n",
    "    # Special case, if product of norms is 0:\n",
    "    # avoids division by 0\n",
    "    if np.isclose(norm_u * norm_v, 0, atol=1e-32):\n",
    "        return 0\n",
    "    \n",
    "    # Computes cosine similarity\n",
    "    cos_similarity = dp / (norm_u * norm_v)\n",
    "    \n",
    "    return(cos_similarity)"
   ]
  },
  {
   "cell_type": "markdown",
   "id": "60801e4f-6daa-46d5-b860-8b17129f7096",
   "metadata": {},
   "source": [
    "And now I need to put these functions together to automate the process:"
   ]
  },
  {
   "cell_type": "code",
   "execution_count": 14,
   "id": "a0c35a00-301c-4d33-acb3-4ef2220c2d66",
   "metadata": {},
   "outputs": [],
   "source": [
    "# Create function that receives sentence and returns similarity to target sentence score\n",
    "def calculate_sim(sentence):\n",
    "    # Calculate sentence's average vector\n",
    "    aver = sentence_to_avg(sentence, words_vector_map)\n",
    "    \n",
    "    # Compute similarity score of given sentence and target sentece\n",
    "    similarity = cos_similarity(aver, target)\n",
    "    return(similarity)"
   ]
  },
  {
   "cell_type": "markdown",
   "id": "de1022a6-ac5d-4601-a4ee-217859ba787f",
   "metadata": {},
   "source": [
    "To test the function and to see how it ranks I chose first keyword sentence and run it to check how the dataset will be ranked"
   ]
  },
  {
   "cell_type": "code",
   "execution_count": 15,
   "id": "1b829a08-58f5-4d1d-9ae6-8bbb7261c38a",
   "metadata": {},
   "outputs": [
    {
     "data": {
      "text/html": [
       "<div>\n",
       "<style scoped>\n",
       "    .dataframe tbody tr th:only-of-type {\n",
       "        vertical-align: middle;\n",
       "    }\n",
       "\n",
       "    .dataframe tbody tr th {\n",
       "        vertical-align: top;\n",
       "    }\n",
       "\n",
       "    .dataframe thead th {\n",
       "        text-align: right;\n",
       "    }\n",
       "</style>\n",
       "<table border=\"1\" class=\"dataframe\">\n",
       "  <thead>\n",
       "    <tr style=\"text-align: right;\">\n",
       "      <th></th>\n",
       "      <th>job_title</th>\n",
       "      <th>location</th>\n",
       "      <th>connection</th>\n",
       "      <th>fit</th>\n",
       "      <th>job_title_cleaned</th>\n",
       "      <th>rank</th>\n",
       "    </tr>\n",
       "  </thead>\n",
       "  <tbody>\n",
       "    <tr>\n",
       "      <th>5</th>\n",
       "      <td>Aspiring Human Resources Specialist</td>\n",
       "      <td>Greater New York City Area</td>\n",
       "      <td>1</td>\n",
       "      <td>0.968802</td>\n",
       "      <td>Aspiring Human Resources Specialist</td>\n",
       "      <td>1.0</td>\n",
       "    </tr>\n",
       "    <tr>\n",
       "      <th>2</th>\n",
       "      <td>Aspiring Human Resources Professional</td>\n",
       "      <td>Raleigh-Durham, North Carolina Area</td>\n",
       "      <td>44</td>\n",
       "      <td>0.958368</td>\n",
       "      <td>Aspiring Human Resources Professional</td>\n",
       "      <td>2.5</td>\n",
       "    </tr>\n",
       "    <tr>\n",
       "      <th>45</th>\n",
       "      <td>Aspiring Human Resources Professional</td>\n",
       "      <td>Kokomo, Indiana Area</td>\n",
       "      <td>71</td>\n",
       "      <td>0.958368</td>\n",
       "      <td>Aspiring Human Resources Professional</td>\n",
       "      <td>2.5</td>\n",
       "    </tr>\n",
       "    <tr>\n",
       "      <th>22</th>\n",
       "      <td>Human Resources Professional</td>\n",
       "      <td>Greater Boston Area</td>\n",
       "      <td>16</td>\n",
       "      <td>0.936910</td>\n",
       "      <td>Human Resources Professional</td>\n",
       "      <td>4.0</td>\n",
       "    </tr>\n",
       "    <tr>\n",
       "      <th>13</th>\n",
       "      <td>Seeking Human Resources Opportunities</td>\n",
       "      <td>Chicago, Illinois</td>\n",
       "      <td>390</td>\n",
       "      <td>0.922567</td>\n",
       "      <td>Seeking Human Resources Opportunities</td>\n",
       "      <td>5.0</td>\n",
       "    </tr>\n",
       "  </tbody>\n",
       "</table>\n",
       "</div>"
      ],
      "text/plain": [
       "                                job_title  \\\n",
       "5     Aspiring Human Resources Specialist   \n",
       "2   Aspiring Human Resources Professional   \n",
       "45  Aspiring Human Resources Professional   \n",
       "22           Human Resources Professional   \n",
       "13  Seeking Human Resources Opportunities   \n",
       "\n",
       "                               location connection       fit  \\\n",
       "5            Greater New York City Area          1  0.968802   \n",
       "2   Raleigh-Durham, North Carolina Area         44  0.958368   \n",
       "45                 Kokomo, Indiana Area         71  0.958368   \n",
       "22                  Greater Boston Area         16  0.936910   \n",
       "13                    Chicago, Illinois        390  0.922567   \n",
       "\n",
       "                        job_title_cleaned  rank  \n",
       "5     Aspiring Human Resources Specialist   1.0  \n",
       "2   Aspiring Human Resources Professional   2.5  \n",
       "45  Aspiring Human Resources Professional   2.5  \n",
       "22           Human Resources Professional   4.0  \n",
       "13  Seeking Human Resources Opportunities   5.0  "
      ]
     },
     "execution_count": 15,
     "metadata": {},
     "output_type": "execute_result"
    }
   ],
   "source": [
    "# Initialize target sentence\n",
    "target_keyword = \"Aspiring human resources\"\n",
    "target = sentence_to_avg(target_keyword, words_vector_map)\n",
    "\n",
    "rank_df = df.copy()\n",
    "\n",
    "# Apply my function to job titles in dataframe\n",
    "rank_df[\"fit\"] = rank_df[\"job_title_cleaned\"].apply(calculate_sim)\n",
    "\n",
    "# Rank data based on similarity\n",
    "rank_df[\"rank\"] = rank_df[\"fit\"].rank(ascending = False)\n",
    "\n",
    "# Print top 5 with highest rank\n",
    "rank_df.sort_values(by = \"rank\").head()"
   ]
  },
  {
   "cell_type": "code",
   "execution_count": 16,
   "id": "8863f37c-3ef7-477f-8e13-ab82cb79ea4f",
   "metadata": {},
   "outputs": [
    {
     "data": {
      "text/html": [
       "<div>\n",
       "<style scoped>\n",
       "    .dataframe tbody tr th:only-of-type {\n",
       "        vertical-align: middle;\n",
       "    }\n",
       "\n",
       "    .dataframe tbody tr th {\n",
       "        vertical-align: top;\n",
       "    }\n",
       "\n",
       "    .dataframe thead th {\n",
       "        text-align: right;\n",
       "    }\n",
       "</style>\n",
       "<table border=\"1\" class=\"dataframe\">\n",
       "  <thead>\n",
       "    <tr style=\"text-align: right;\">\n",
       "      <th></th>\n",
       "      <th>job_title</th>\n",
       "      <th>location</th>\n",
       "      <th>connection</th>\n",
       "      <th>fit</th>\n",
       "      <th>job_title_cleaned</th>\n",
       "      <th>rank</th>\n",
       "    </tr>\n",
       "  </thead>\n",
       "  <tbody>\n",
       "    <tr>\n",
       "      <th>44</th>\n",
       "      <td>Student at Indiana University Kokomo - Busines...</td>\n",
       "      <td>Lafayette, Indiana</td>\n",
       "      <td>19</td>\n",
       "      <td>0.550692</td>\n",
       "      <td>Student at Indiana University Kokomo   Busines...</td>\n",
       "      <td>49.0</td>\n",
       "    </tr>\n",
       "    <tr>\n",
       "      <th>33</th>\n",
       "      <td>RRP Brand Portfolio Executive at JTI (Japan To...</td>\n",
       "      <td>Greater Philadelphia Area</td>\n",
       "      <td>500+</td>\n",
       "      <td>0.538585</td>\n",
       "      <td>RRP Brand Portfolio Executive at JTI  Japan To...</td>\n",
       "      <td>50.0</td>\n",
       "    </tr>\n",
       "    <tr>\n",
       "      <th>43</th>\n",
       "      <td>Student at Westfield State University</td>\n",
       "      <td>Bridgewater, Massachusetts</td>\n",
       "      <td>57</td>\n",
       "      <td>0.520403</td>\n",
       "      <td>Student at Westfield State University</td>\n",
       "      <td>51.0</td>\n",
       "    </tr>\n",
       "    <tr>\n",
       "      <th>9</th>\n",
       "      <td>Student at Chapman University</td>\n",
       "      <td>Lake Forest, California</td>\n",
       "      <td>2</td>\n",
       "      <td>0.517071</td>\n",
       "      <td>Student at Chapman University</td>\n",
       "      <td>52.0</td>\n",
       "    </tr>\n",
       "    <tr>\n",
       "      <th>4</th>\n",
       "      <td>Advisory Board Member at Celal Bayar University</td>\n",
       "      <td>İzmir, Türkiye</td>\n",
       "      <td>500+</td>\n",
       "      <td>0.496264</td>\n",
       "      <td>Advisory Board Member at Celal Bayar University</td>\n",
       "      <td>53.0</td>\n",
       "    </tr>\n",
       "  </tbody>\n",
       "</table>\n",
       "</div>"
      ],
      "text/plain": [
       "                                            job_title  \\\n",
       "44  Student at Indiana University Kokomo - Busines...   \n",
       "33  RRP Brand Portfolio Executive at JTI (Japan To...   \n",
       "43              Student at Westfield State University   \n",
       "9                       Student at Chapman University   \n",
       "4     Advisory Board Member at Celal Bayar University   \n",
       "\n",
       "                      location connection       fit  \\\n",
       "44          Lafayette, Indiana         19  0.550692   \n",
       "33   Greater Philadelphia Area      500+   0.538585   \n",
       "43  Bridgewater, Massachusetts         57  0.520403   \n",
       "9      Lake Forest, California          2  0.517071   \n",
       "4               İzmir, Türkiye      500+   0.496264   \n",
       "\n",
       "                                    job_title_cleaned  rank  \n",
       "44  Student at Indiana University Kokomo   Busines...  49.0  \n",
       "33  RRP Brand Portfolio Executive at JTI  Japan To...  50.0  \n",
       "43              Student at Westfield State University  51.0  \n",
       "9                       Student at Chapman University  52.0  \n",
       "4     Advisory Board Member at Celal Bayar University  53.0  "
      ]
     },
     "execution_count": 16,
     "metadata": {},
     "output_type": "execute_result"
    }
   ],
   "source": [
    "# Print 5 with lowest rank\n",
    "rank_df.sort_values(by = \"rank\").tail()"
   ]
  },
  {
   "cell_type": "markdown",
   "id": "c6708509-bc74-4e90-9d19-0cdfacbf8d3c",
   "metadata": {},
   "source": [
    "## Ranking model. RankNet\n",
    "\n",
    "This is neither classification nor regression problem. It is a ranking problem, so ranking algorithm should be applied. Ranking is very important concept, as it has vast range of uses. It is used in search results. Or in online shops for sorting products by relevance, movie recommendations etc.\n",
    "\n",
    "The ranking problem I have is quite simple, and does not require big models. Simple RankNet should be enough for this project. Ranknet uses gradient descent methods for learning ranking functions. It has a simple probabilistic cost function, and implements these ideas using a neural network to model the underlying ranking function.\n",
    "\n",
    "Ranking can be setup in following ways:\n",
    "- Pointwise \n",
    "- Pairwise\n",
    "- Listwise\n",
    "\n",
    "RankNet proposed to model the target probabilities `pairwise` between any two documents (di & dj) of the same query. And the target probabilities Pij of di and dj is defined as:\n",
    "- 1 if si > sj\n",
    "- 0.5 if si=sj\n",
    "- 0 if si < sj\n",
    "\n",
    "where si and sj is the score of di and dj respectively. So now each pair of documents serve as one training record to RankNet.\n",
    "\n",
    "I have job titles sentences vectors and their ranks. Now I need to convert it to pairs of sentences and their pairwise comparison target probabilities Pij. Following function does the job"
   ]
  },
  {
   "cell_type": "code",
   "execution_count": 17,
   "id": "e704bc77-0359-436d-b4e3-e6ff16f7765e",
   "metadata": {},
   "outputs": [],
   "source": [
    "# Function that receives sentence vectors and targets to return pairs of vectors and their probabilities Pij\n",
    "def comb(X, y, jt):\n",
    "    # Create combination pairs of indices\n",
    "    idxs = list(combinations(range(X.shape[0]),2))\n",
    "    np.random.shuffle(idxs)\n",
    "\n",
    "    Xi = []\n",
    "    Xj = []\n",
    "    Pij = []\n",
    "    job_titles = []\n",
    "    pair_id = []\n",
    "\n",
    "    # Create arrays Xi, Xj and target pairwise probabilites\n",
    "    for i, j in idxs:\n",
    "        Xi.append(X[i])\n",
    "        Xj.append(X[j])\n",
    "        job_titles.append([jt[i], jt[j]])\n",
    "        pair_id.append([i, j])\n",
    "        \n",
    "        if y[i] < y[j]:\n",
    "            Pij.append(1)\n",
    "        elif y[i] > y[j]:\n",
    "            Pij.append(0)\n",
    "        else:\n",
    "            Pij.append(0.5)\n",
    "\n",
    "    # Convert data to numpy arrays\n",
    "    Xi = np.array(Xi)\n",
    "    Xj = np.array(Xj)\n",
    "    Pij = np.array(Pij)\n",
    "    \n",
    "    return Xi, Xj, Pij, job_titles, pair_id\n"
   ]
  },
  {
   "cell_type": "markdown",
   "id": "5cde6b8a-bb04-4959-8e38-5a1aa930b44b",
   "metadata": {},
   "source": [
    "Next step is to get sentnce vectors from dataframe, calculate their similarities to target sentences. Also shuffle the data and split it to train and test sets. "
   ]
  },
  {
   "cell_type": "code",
   "execution_count": 18,
   "id": "a7eb8092-1c0c-49b1-a25f-2acc97c43e2e",
   "metadata": {},
   "outputs": [],
   "source": [
    "# Function that receives target sentence and dataframe, and returns all data necessary for neural network\n",
    "def get_data(target_sentence, df):\n",
    "    # Rank job title sentences based on their similarity to target sentence\n",
    "    target = sentence_to_avg(target_sentence, words_vector_map)\n",
    "    rank = df[\"job_title_cleaned\"].apply(calculate_sim).rank(ascending = False)\n",
    "\n",
    "    # Create temporary dataframe with sentence vectors\n",
    "    t_f = lambda x: sentence_to_avg(x, words_vector_map)\n",
    "    temp_df = pd.DataFrame(df['job_title_cleaned'].apply(t_f).to_list())\n",
    "\n",
    "    # Add rank and job_title columns to dataframe\n",
    "    temp_df.insert(50,\"rank\", rank)\n",
    "    temp_df.insert(51,\"job_title\", df[['job_title']])\n",
    "\n",
    "    # Shuffle the dataframe\n",
    "    temp_df = temp_df.sample(frac = 1).reset_index(drop = True)\n",
    "\n",
    "    # Get X and y from dataset. Convert them to numpy array. Also got job titles as series\n",
    "    X = temp_df.drop(['rank', 'job_title'], axis = 1).values\n",
    "    y = temp_df['rank'].astype('int').values\n",
    "    jt = temp_df['job_title'].values\n",
    "    \n",
    "    # Split data to train and test sets\n",
    "    len_train_df = int(X.shape[0] * 0.8)\n",
    "    \n",
    "    X_train, X_test = X[:len_train_df], X[len_train_df:]\n",
    "    y_train, y_test = y[:len_train_df], y[len_train_df:]\n",
    "    jt_train, jt_test = jt[:len_train_df], jt[len_train_df:]\n",
    "\n",
    "    # Get combinations of features and probabilities of dataset\n",
    "    Xi_train, Xj_train, Pij_train, job_titles_train, pair_id_train = comb(X_train, y_train, jt_train)\n",
    "    Xi_test, Xj_test, Pij_test, job_titles_test, pair_id_test = comb(X_test, y_test, jt_test)\n",
    "    \n",
    "    return(Xi_train, Xi_test, Xj_train, Xj_test, Pij_train, Pij_test, job_titles_train, job_titles_test, pair_id_train, pair_id_test, jt_test, y_test)\n",
    "\n",
    "Xi_train, Xi_test, Xj_train, Xj_test, Pij_train, Pij_test, job_titles_train, job_titles_test, pair_id_train, pair_id_test, jt_test, y_test = get_data(\"Aspiring human resources\", df)"
   ]
  },
  {
   "cell_type": "code",
   "execution_count": 19,
   "id": "91c0e1b1-c294-405e-bf65-106678ea1b54",
   "metadata": {},
   "outputs": [
    {
     "name": "stdout",
     "output_type": "stream",
     "text": [
      "(array([0, 1]), array([440, 421]))\n",
      "(array([0, 1]), array([40, 15]))\n"
     ]
    }
   ],
   "source": [
    "print(np.unique(Pij_train, return_counts=True))\n",
    "print(np.unique(Pij_test, return_counts=True))"
   ]
  },
  {
   "cell_type": "markdown",
   "id": "54d795ad-bf2f-45df-b3d9-eabc97b6d9f8",
   "metadata": {},
   "source": [
    "### RankNet implementation\n",
    "Originally Ranknet was first developed and proposed by Microsoft, and paper can be downloaded [here](https://www.microsoft.com/en-us/research/wp-content/uploads/2005/08/icml_ranking.pdf).\n",
    "\n",
    "It was described well in ***\"medium\"***, and can be read [here](https://medium.com/swlh/ranknet-factorised-ranknet-lambdarank-explained-implementation-via-tensorflow-2-0-part-i-1e71d8923132). The RankNet algorithm uses a neural network formulation. If we denote the neural network as function *f*, the output of neural network for document i as *oi*, the features of document i as *xi*. Hence we have *oi = f(xi) and oj = f(xj)*.  \n",
    "So we can define:\n",
    "$$ o_{ij} = o_i - oj = f(x_i) - f(x_j) = -(o_j - o_i) = -o_{ji} $$\n",
    "\n",
    "\n",
    "Note that *oi* and *oj* could be any real number, but as mentioned above, RankNet is only modelling the probabilities *Pij* which is in the range of [0,1].  \n",
    "In order to model the probabilities, logistic function is applied on *oij*.\n",
    "\n",
    "\n",
    "While a typical neural network follows these steps to update its weights:  \n",
    "*read input features -> compute output -> compute cost -> compute gradient -> back propagation*\n",
    "\n",
    "\n",
    "RankNet update its weights as follows:  \n",
    "*read input xi -> compute oi -> compute gradients doi/dWk ->  \n",
    "read input xj -> compute oj -> compute gradients doj/dWk ->  \n",
    "compute Pij -> compute gradients using equation (2) & (3) -> back propagation*  \n",
    "\n",
    "\n",
    "So in RankNet, *xi & xj* serve as one training record, RankNet will pass *xi & xj* through the same the weights *(Wk)* of the network to get *oi & oj* before computing the gradient and update its weights."
   ]
  },
  {
   "cell_type": "code",
   "execution_count": 20,
   "id": "d1767965-98ee-445a-9b2e-76592826c337",
   "metadata": {},
   "outputs": [
    {
     "name": "stderr",
     "output_type": "stream",
     "text": [
      "2022-03-31 19:25:01.461799: I tensorflow/compiler/jit/xla_cpu_device.cc:41] Not creating XLA devices, tf_xla_enable_xla_devices not set\n",
      "2022-03-31 19:25:01.504373: I tensorflow/core/platform/cpu_feature_guard.cc:142] This TensorFlow binary is optimized with oneAPI Deep Neural Network Library (oneDNN) to use the following CPU instructions in performance-critical operations:  AVX2 FMA\n",
      "To enable them in other operations, rebuild TensorFlow with the appropriate compiler flags.\n"
     ]
    },
    {
     "data": {
      "image/png": "[encoded data removed]",
      "text/plain": [
       "<IPython.core.display.Image object>"
      ]
     },
     "execution_count": 20,
     "metadata": {},
     "output_type": "execute_result"
    }
   ],
   "source": [
    "# Create the model\n",
    "class RankNet(Model):\n",
    "    def __init__(self):\n",
    "        super().__init__()\n",
    "        self.dense = [layers.Dense(16, activation=leaky_relu), layers.Dense(8, activation=leaky_relu)]\n",
    "        self.out = layers.Dense(1, activation='linear')\n",
    "        self.sub = layers.Subtract()\n",
    "    \n",
    "    def call(self, inputs):\n",
    "        xi, xj = inputs\n",
    "        densei = self.dense[0](xi)\n",
    "        densej = self.dense[0](xj)\n",
    "        for dense in self.dense[1:]:\n",
    "            densei = dense(densei)\n",
    "            densej = dense(densej)\n",
    "        oi = self.out(densei)\n",
    "        oj = self.out(densej)\n",
    "        oij = self.sub([oi, oj])\n",
    "        output = layers.Activation('sigmoid')(oij)\n",
    "        return output\n",
    "    \n",
    "    def build_graph(self):\n",
    "        x = [Input(shape=(10)), Input(shape=(10))]\n",
    "        return Model(inputs=x, outputs=self.call(x))\n",
    "\n",
    "# Visualize model architecture\n",
    "plot_model(RankNet().build_graph(), show_shapes=False)"
   ]
  },
  {
   "cell_type": "markdown",
   "id": "e71113dd-de2c-497e-927e-1f44ef317880",
   "metadata": {},
   "source": [
    "Model architecture presented above illustrates how RankNet works. There are two input layer that take features of documents i and j. Then each of them go through two dense layers with 'leaky relu' activation and one dense layer with 'linear' activation function. Values of two resulting outputs of neural networks are subtracted one from another. And result of this subtraction go through 'sigmoid' activation function.\n",
    "\n",
    "Next, I initialize the model with \"Adam\" optimizer and \"binary crossentropy\" as a loss function. Then run the model and assess losses of train and test sets. "
   ]
  },
  {
   "cell_type": "code",
   "execution_count": 21,
   "id": "42894daa-3579-4c25-917e-46985468fd6d",
   "metadata": {},
   "outputs": [],
   "source": [
    "# Initialize the model\n",
    "ranknet = RankNet()\n",
    "ranknet.compile(optimizer='adam', loss='binary_crossentropy')"
   ]
  },
  {
   "cell_type": "code",
   "execution_count": 22,
   "id": "3cd15a37-8f56-4ec4-bd14-69c440ac63a5",
   "metadata": {},
   "outputs": [
    {
     "name": "stderr",
     "output_type": "stream",
     "text": [
      "2022-03-31 19:25:05.010492: I tensorflow/compiler/mlir/mlir_graph_optimization_pass.cc:116] None of the MLIR optimization passes are enabled (registered 2)\n"
     ]
    },
    {
     "name": "stdout",
     "output_type": "stream",
     "text": [
      "Epoch 1/10\n",
      "861/861 [==============================] - 8s 4ms/step - loss: 0.3934 - val_loss: 0.1862\n",
      "Epoch 2/10\n",
      "861/861 [==============================] - 2s 2ms/step - loss: 0.1294 - val_loss: 0.1333\n",
      "Epoch 3/10\n",
      "861/861 [==============================] - 2s 2ms/step - loss: 0.1044 - val_loss: 0.1185\n",
      "Epoch 4/10\n",
      "861/861 [==============================] - 3s 4ms/step - loss: 0.0765 - val_loss: 0.1342\n",
      "Epoch 5/10\n",
      "861/861 [==============================] - 2s 3ms/step - loss: 0.0696 - val_loss: 0.1165\n",
      "Epoch 6/10\n",
      "861/861 [==============================] - 3s 3ms/step - loss: 0.0531 - val_loss: 0.1387\n",
      "Epoch 7/10\n",
      "861/861 [==============================] - 3s 3ms/step - loss: 0.0572 - val_loss: 0.1523\n",
      "Epoch 8/10\n",
      "861/861 [==============================] - 3s 3ms/step - loss: 0.0502 - val_loss: 0.1303\n",
      "Epoch 9/10\n",
      "861/861 [==============================] - 3s 3ms/step - loss: 0.0511 - val_loss: 0.1340\n",
      "Epoch 10/10\n",
      "861/861 [==============================] - 4s 4ms/step - loss: 0.0384 - val_loss: 0.1497\n"
     ]
    }
   ],
   "source": [
    "# Run the model for 10 epochs\n",
    "history = ranknet.fit([Xi_train, Xj_train], Pij_train, epochs=10, batch_size=1, validation_data=([Xi_test, Xj_test], Pij_test))"
   ]
  },
  {
   "cell_type": "code",
   "execution_count": 23,
   "id": "3d807f67-c540-4310-897a-e9339f8945ac",
   "metadata": {},
   "outputs": [
    {
     "data": {
      "image/png": "[encoded data removed]",
      "text/plain": [
       "<Figure size 864x504 with 1 Axes>"
      ]
     },
     "metadata": {},
     "output_type": "display_data"
    }
   ],
   "source": [
    "# Plotting losses\n",
    "plt.figure(figsize = [12,7])\n",
    "\n",
    "plt.xlabel(\"Epochs\")\n",
    "plt.ylabel(\"Loss\")\n",
    "plt.title(\"Loss\")\n",
    "\n",
    "sns.lineplot(x = range(1,1+len(history.history['loss'])), y = history.history['loss'])\n",
    "sns.lineplot(x = range(1,1+len(history.history['loss'])), y = history.history['val_loss'])\n",
    "\n",
    "plt.legend(labels = ['Training Set Loss', 'Validation Set Loss'])\n",
    "\n",
    "plt.ylim(0,1)\n",
    "plt.show()"
   ]
  },
  {
   "cell_type": "markdown",
   "id": "91a2b32a-4efe-4c38-b3d2-4f3f1907e81a",
   "metadata": {},
   "source": [
    "Losses chart indicates that with epochs validation loss increases. It happens because more the model trains, better it fits the training set while validation set fitting worsens.\n",
    "\n",
    "## Examining test set performance\n",
    "\n",
    "Next, I try to predict ranks using test set and inspect quality of prediction."
   ]
  },
  {
   "cell_type": "code",
   "execution_count": 24,
   "id": "37898c93-711f-403d-a722-5ad3251e1195",
   "metadata": {},
   "outputs": [
    {
     "data": {
      "text/html": [
       "<div>\n",
       "<style scoped>\n",
       "    .dataframe tbody tr th:only-of-type {\n",
       "        vertical-align: middle;\n",
       "    }\n",
       "\n",
       "    .dataframe tbody tr th {\n",
       "        vertical-align: top;\n",
       "    }\n",
       "\n",
       "    .dataframe thead th {\n",
       "        text-align: right;\n",
       "    }\n",
       "</style>\n",
       "<table border=\"1\" class=\"dataframe\">\n",
       "  <thead>\n",
       "    <tr style=\"text-align: right;\">\n",
       "      <th></th>\n",
       "      <th>y_test</th>\n",
       "      <th>y_predicted</th>\n",
       "      <th>job_titles_1</th>\n",
       "      <th>job_titles_2</th>\n",
       "    </tr>\n",
       "  </thead>\n",
       "  <tbody>\n",
       "    <tr>\n",
       "      <th>0</th>\n",
       "      <td>1</td>\n",
       "      <td>8.814073e-02</td>\n",
       "      <td>Human Resources professional for the world lea...</td>\n",
       "      <td>Human Resources Generalist at Schwan's</td>\n",
       "    </tr>\n",
       "    <tr>\n",
       "      <th>1</th>\n",
       "      <td>1</td>\n",
       "      <td>3.916363e-01</td>\n",
       "      <td>Senior Human Resources Business Partner at Hei...</td>\n",
       "      <td>SVP, CHRO, Marketing &amp; Communications, CSR Off...</td>\n",
       "    </tr>\n",
       "    <tr>\n",
       "      <th>2</th>\n",
       "      <td>0</td>\n",
       "      <td>3.293732e-06</td>\n",
       "      <td>Aspiring Human Resources Management student se...</td>\n",
       "      <td>Seeking Human Resources Opportunities</td>\n",
       "    </tr>\n",
       "    <tr>\n",
       "      <th>3</th>\n",
       "      <td>0</td>\n",
       "      <td>2.250901e-02</td>\n",
       "      <td>Senior Human Resources Business Partner at Hei...</td>\n",
       "      <td>Human Resources Generalist at ScottMadden, Inc.</td>\n",
       "    </tr>\n",
       "    <tr>\n",
       "      <th>4</th>\n",
       "      <td>1</td>\n",
       "      <td>1.000000e+00</td>\n",
       "      <td>Aspiring Human Resources Professional</td>\n",
       "      <td>SVP, CHRO, Marketing &amp; Communications, CSR Off...</td>\n",
       "    </tr>\n",
       "    <tr>\n",
       "      <th>5</th>\n",
       "      <td>0</td>\n",
       "      <td>7.924501e-01</td>\n",
       "      <td>Human Resources Generalist at Schwan's</td>\n",
       "      <td>SVP, CHRO, Marketing &amp; Communications, CSR Off...</td>\n",
       "    </tr>\n",
       "    <tr>\n",
       "      <th>6</th>\n",
       "      <td>0</td>\n",
       "      <td>5.047236e-12</td>\n",
       "      <td>Human Resources professional for the world lea...</td>\n",
       "      <td>Aspiring Human Resources Professional</td>\n",
       "    </tr>\n",
       "    <tr>\n",
       "      <th>7</th>\n",
       "      <td>1</td>\n",
       "      <td>9.959858e-01</td>\n",
       "      <td>Aspiring Human Resources Management student se...</td>\n",
       "      <td>Human Resources Generalist at ScottMadden, Inc.</td>\n",
       "    </tr>\n",
       "    <tr>\n",
       "      <th>8</th>\n",
       "      <td>1</td>\n",
       "      <td>1.000000e+00</td>\n",
       "      <td>Human Resources Professional</td>\n",
       "      <td>Human Resources Generalist at ScottMadden, Inc.</td>\n",
       "    </tr>\n",
       "    <tr>\n",
       "      <th>9</th>\n",
       "      <td>0</td>\n",
       "      <td>4.091476e-06</td>\n",
       "      <td>Seeking Human Resources HRIS and Generalist Po...</td>\n",
       "      <td>Aspiring Human Resources Professional</td>\n",
       "    </tr>\n",
       "  </tbody>\n",
       "</table>\n",
       "</div>"
      ],
      "text/plain": [
       "   y_test   y_predicted                                       job_titles_1  \\\n",
       "0       1  8.814073e-02  Human Resources professional for the world lea...   \n",
       "1       1  3.916363e-01  Senior Human Resources Business Partner at Hei...   \n",
       "2       0  3.293732e-06  Aspiring Human Resources Management student se...   \n",
       "3       0  2.250901e-02  Senior Human Resources Business Partner at Hei...   \n",
       "4       1  1.000000e+00              Aspiring Human Resources Professional   \n",
       "5       0  7.924501e-01             Human Resources Generalist at Schwan's   \n",
       "6       0  5.047236e-12  Human Resources professional for the world lea...   \n",
       "7       1  9.959858e-01  Aspiring Human Resources Management student se...   \n",
       "8       1  1.000000e+00                       Human Resources Professional   \n",
       "9       0  4.091476e-06  Seeking Human Resources HRIS and Generalist Po...   \n",
       "\n",
       "                                        job_titles_2  \n",
       "0             Human Resources Generalist at Schwan's  \n",
       "1  SVP, CHRO, Marketing & Communications, CSR Off...  \n",
       "2              Seeking Human Resources Opportunities  \n",
       "3    Human Resources Generalist at ScottMadden, Inc.  \n",
       "4  SVP, CHRO, Marketing & Communications, CSR Off...  \n",
       "5  SVP, CHRO, Marketing & Communications, CSR Off...  \n",
       "6              Aspiring Human Resources Professional  \n",
       "7    Human Resources Generalist at ScottMadden, Inc.  \n",
       "8    Human Resources Generalist at ScottMadden, Inc.  \n",
       "9              Aspiring Human Resources Professional  "
      ]
     },
     "execution_count": 24,
     "metadata": {},
     "output_type": "execute_result"
    }
   ],
   "source": [
    "# Make predictions\n",
    "y_pred = ranknet.predict([Xi_test, Xj_test])\n",
    "\n",
    "# Create dataset to compare predicted and original probabilities and text pairs\n",
    "testset_df = pd.DataFrame({'job_titles':job_titles_test, 'y_test':Pij_test.reshape(-1), 'y_predicted':y_pred.reshape(-1)})\n",
    "testset_df[['job_titles_1', 'job_titles_2']] = pd.DataFrame(testset_df['job_titles'].to_list())\n",
    "testset_df.drop('job_titles', axis = 1, inplace = True)\n",
    "testset_df.head(10)"
   ]
  },
  {
   "cell_type": "markdown",
   "id": "6eb9258d-7a22-4c42-8c2b-02947767c74e",
   "metadata": {},
   "source": [
    "Predicted and original values of probabilities seems very consistent. Now I need a threshold to sort out if the predicted value should be 0 or 1. Most probably it should be 0.5, and the graph of accuracy vs threshold should prove it."
   ]
  },
  {
   "cell_type": "code",
   "execution_count": 25,
   "id": "71610338-c39e-4617-93d0-7b3fc700e970",
   "metadata": {},
   "outputs": [],
   "source": [
    "# Create function that calculates accuracies of predictions for different thresholds\n",
    "def find_threshold(t_min, t_max, t_step, df):\n",
    "    conv_func = lambda x: 1 if x > threshold else 0\n",
    "    \n",
    "    th_list = []\n",
    "    acc_list = []\n",
    "    \n",
    "    for threshold in np.arange(t_min, t_max, t_step):\n",
    "        y_converted = df['y_predicted'].apply(conv_func)\n",
    "        diff = np.abs(df['y_test'] - y_converted)\n",
    "        acc = 1  - diff.sum()/diff.shape[0]\n",
    "        \n",
    "        th_list.append(threshold)\n",
    "        acc_list.append(acc)\n",
    "    \n",
    "    return th_list, acc_list\n",
    "\n",
    "th_list, acc_list = find_threshold(0.1, 0.8, 0.01, testset_df)"
   ]
  },
  {
   "cell_type": "code",
   "execution_count": 26,
   "id": "1ada6f73-7732-4a70-89f3-a814996259e2",
   "metadata": {},
   "outputs": [
    {
     "data": {
      "image/png": "[encoded data removed]",
      "text/plain": [
       "<Figure size 864x504 with 1 Axes>"
      ]
     },
     "metadata": {},
     "output_type": "display_data"
    }
   ],
   "source": [
    "plt.figure(figsize = [12,7])\n",
    "sns.lineplot(x = th_list, y = acc_list,label = 'accuracy to threshold')\n",
    "plt.title(\"Accuracy to threshold\")\n",
    "plt.ylabel(\"Accuracy\")\n",
    "plt.xlabel(\"Threshold\")\n",
    "plt.legend(loc=\"lower right\")\n",
    "plt.show()"
   ]
  },
  {
   "cell_type": "markdown",
   "id": "62a45073-92f3-48ff-99b0-254a4192bd2f",
   "metadata": {},
   "source": [
    "As we can see in this case there is not much of a difference in threshold we choose in whole range. So I chose `0.5` as the threshold for future.\n",
    "\n",
    "Next step is to gain information from pairwise predictions. We cannot use it right away to assess how good the model performed. So, based on pairwise comparisons, using bubble sort algorithm I rank test set entries. Application of bubble sort algorithm is based on fact that sentences with higher similarity to target sentence will bewinning in pairwise comparison. Hence if I add points to each index for winning in comparison, highest points will get the sentence that ranks the best."
   ]
  },
  {
   "cell_type": "code",
   "execution_count": 27,
   "id": "b4a3f267-9543-4e7e-9ae0-21c42e64ae34",
   "metadata": {},
   "outputs": [],
   "source": [
    "# Write a function to convert predicted values from sigmoid to 0 and 1's. Apply it to predicted values\n",
    "conv_func = lambda x: 1 if x > 0.5 else 0\n",
    "y_pred = testset_df['y_predicted'].apply(conv_func)\n",
    "\n",
    "d = {}    \n",
    "\n",
    "# Create zero values keys in dictionary for each index value from pair indices of test set\n",
    "for i in np.unique(pair_id_test):\n",
    "    d[i] = 0\n",
    "\n",
    "# Loop through pair indices of test set, to identify strongest indices. Bubble sort\n",
    "for i, pair in enumerate(pair_id_test):\n",
    "    if y_pred[i]==0:\n",
    "        d[pair[1]] += 1\n",
    "    else:\n",
    "        d[pair[0]] += 1"
   ]
  },
  {
   "cell_type": "code",
   "execution_count": 28,
   "id": "ad1eacb2-20c7-4fb3-a21e-f67b7dee9c26",
   "metadata": {},
   "outputs": [],
   "source": [
    "# Sort dictionary based on values (highest rank first). Then capture indices only from list of pairs\n",
    "d = sorted(d.items(), key = lambda item: item[1], reverse = True)\n",
    "predicted_indices = np.array(d)[:,0]"
   ]
  },
  {
   "cell_type": "markdown",
   "id": "6a66b165-10cc-4965-b085-fe6426b0ff29",
   "metadata": {},
   "source": [
    "Now it is time to compare results to original test data. To get it done, I have list of ranks of test data. As I need only indices of theirs, sorted based on ranks, I need to perform some transformations of data."
   ]
  },
  {
   "cell_type": "code",
   "execution_count": 29,
   "id": "6e61731a-0fcd-4013-a612-719a1c8be7df",
   "metadata": {},
   "outputs": [
    {
     "data": {
      "text/html": [
       "<div>\n",
       "<style scoped>\n",
       "    .dataframe tbody tr th:only-of-type {\n",
       "        vertical-align: middle;\n",
       "    }\n",
       "\n",
       "    .dataframe tbody tr th {\n",
       "        vertical-align: top;\n",
       "    }\n",
       "\n",
       "    .dataframe thead th {\n",
       "        text-align: right;\n",
       "    }\n",
       "</style>\n",
       "<table border=\"1\" class=\"dataframe\">\n",
       "  <thead>\n",
       "    <tr style=\"text-align: right;\">\n",
       "      <th></th>\n",
       "      <th>ranked_test_set</th>\n",
       "      <th>ranked_predicted_set</th>\n",
       "    </tr>\n",
       "  </thead>\n",
       "  <tbody>\n",
       "    <tr>\n",
       "      <th>0</th>\n",
       "      <td>Aspiring Human Resources Professional</td>\n",
       "      <td>Aspiring Human Resources Professional</td>\n",
       "    </tr>\n",
       "    <tr>\n",
       "      <th>1</th>\n",
       "      <td>Human Resources Professional</td>\n",
       "      <td>Human Resources Professional</td>\n",
       "    </tr>\n",
       "    <tr>\n",
       "      <th>2</th>\n",
       "      <td>Seeking Human Resources Opportunities</td>\n",
       "      <td>Seeking Human Resources Opportunities</td>\n",
       "    </tr>\n",
       "    <tr>\n",
       "      <th>3</th>\n",
       "      <td>Seeking Human Resources HRIS and Generalist Po...</td>\n",
       "      <td>Seeking Human Resources HRIS and Generalist Po...</td>\n",
       "    </tr>\n",
       "    <tr>\n",
       "      <th>4</th>\n",
       "      <td>Aspiring Human Resources Management student se...</td>\n",
       "      <td>Aspiring Human Resources Management student se...</td>\n",
       "    </tr>\n",
       "    <tr>\n",
       "      <th>5</th>\n",
       "      <td>Human Resources Generalist at ScottMadden, Inc.</td>\n",
       "      <td>Human Resources Generalist at ScottMadden, Inc.</td>\n",
       "    </tr>\n",
       "    <tr>\n",
       "      <th>6</th>\n",
       "      <td>Senior Human Resources Business Partner at Hei...</td>\n",
       "      <td>Human Resources Generalist at Schwan's</td>\n",
       "    </tr>\n",
       "    <tr>\n",
       "      <th>7</th>\n",
       "      <td>SVP, CHRO, Marketing &amp; Communications, CSR Off...</td>\n",
       "      <td>SVP, CHRO, Marketing &amp; Communications, CSR Off...</td>\n",
       "    </tr>\n",
       "    <tr>\n",
       "      <th>8</th>\n",
       "      <td>Human Resources professional for the world lea...</td>\n",
       "      <td>Senior Human Resources Business Partner at Hei...</td>\n",
       "    </tr>\n",
       "    <tr>\n",
       "      <th>9</th>\n",
       "      <td>Human Resources Generalist at Schwan's</td>\n",
       "      <td>Human Resources professional for the world lea...</td>\n",
       "    </tr>\n",
       "    <tr>\n",
       "      <th>10</th>\n",
       "      <td>Director Of Administration at Excellence Logging</td>\n",
       "      <td>Director Of Administration at Excellence Logging</td>\n",
       "    </tr>\n",
       "  </tbody>\n",
       "</table>\n",
       "</div>"
      ],
      "text/plain": [
       "                                      ranked_test_set  \\\n",
       "0               Aspiring Human Resources Professional   \n",
       "1                        Human Resources Professional   \n",
       "2               Seeking Human Resources Opportunities   \n",
       "3   Seeking Human Resources HRIS and Generalist Po...   \n",
       "4   Aspiring Human Resources Management student se...   \n",
       "5     Human Resources Generalist at ScottMadden, Inc.   \n",
       "6   Senior Human Resources Business Partner at Hei...   \n",
       "7   SVP, CHRO, Marketing & Communications, CSR Off...   \n",
       "8   Human Resources professional for the world lea...   \n",
       "9              Human Resources Generalist at Schwan's   \n",
       "10   Director Of Administration at Excellence Logging   \n",
       "\n",
       "                                 ranked_predicted_set  \n",
       "0               Aspiring Human Resources Professional  \n",
       "1                        Human Resources Professional  \n",
       "2               Seeking Human Resources Opportunities  \n",
       "3   Seeking Human Resources HRIS and Generalist Po...  \n",
       "4   Aspiring Human Resources Management student se...  \n",
       "5     Human Resources Generalist at ScottMadden, Inc.  \n",
       "6              Human Resources Generalist at Schwan's  \n",
       "7   SVP, CHRO, Marketing & Communications, CSR Off...  \n",
       "8   Senior Human Resources Business Partner at Hei...  \n",
       "9   Human Resources professional for the world lea...  \n",
       "10   Director Of Administration at Excellence Logging  "
      ]
     },
     "execution_count": 29,
     "metadata": {},
     "output_type": "execute_result"
    }
   ],
   "source": [
    "# Enumerate list to get indeces of test set\n",
    "y_test_enumerated = list(enumerate(y_test))\n",
    "\n",
    "# Sort them based on rank, and preserve these indices in list\n",
    "y_test_enumerated = sorted(y_test_enumerated, key = lambda x: x[1])\n",
    "y_test_adjusted = [x[0] for x in y_test_enumerated]\n",
    "\n",
    "# Create dataframe for assessing predicted ranks \n",
    "result_df = pd.DataFrame({'ranked_test_set':jt_test[y_test_adjusted], 'ranked_predicted_set':jt_test[predicted_indices]})\n",
    "result_df.head(15)"
   ]
  },
  {
   "cell_type": "markdown",
   "id": "cca7b513-0385-46c4-9c8b-df525d69c7d3",
   "metadata": {},
   "source": [
    "From resulting dataframe it is clear that prediction did a good job. Predicted and test sets match each other well.\n",
    "\n",
    "# Re-ranking dataset\n",
    "One of the objectives of project is to re-rank candidates when a candidate is starred. I do it by changing ranks of candidates. Starred candidate will be highest in ranks and other will be changed accordingly. \n",
    "For my test I chose the job_title that just says `student`. This choice should bring up in rank all talents that have student in text. "
   ]
  },
  {
   "cell_type": "code",
   "execution_count": 40,
   "id": "a5bf2e59-7735-4742-b4d3-dcd29865c18b",
   "metadata": {},
   "outputs": [
    {
     "data": {
      "text/html": [
       "<div>\n",
       "<style scoped>\n",
       "    .dataframe tbody tr th:only-of-type {\n",
       "        vertical-align: middle;\n",
       "    }\n",
       "\n",
       "    .dataframe tbody tr th {\n",
       "        vertical-align: top;\n",
       "    }\n",
       "\n",
       "    .dataframe thead th {\n",
       "        text-align: right;\n",
       "    }\n",
       "</style>\n",
       "<table border=\"1\" class=\"dataframe\">\n",
       "  <thead>\n",
       "    <tr style=\"text-align: right;\">\n",
       "      <th></th>\n",
       "      <th>job_title</th>\n",
       "      <th>location</th>\n",
       "      <th>connection</th>\n",
       "      <th>fit</th>\n",
       "      <th>job_title_cleaned</th>\n",
       "    </tr>\n",
       "  </thead>\n",
       "  <tbody>\n",
       "    <tr>\n",
       "      <th>46</th>\n",
       "      <td>Student</td>\n",
       "      <td>Houston, Texas Area</td>\n",
       "      <td>4</td>\n",
       "      <td>NaN</td>\n",
       "      <td>Student</td>\n",
       "    </tr>\n",
       "  </tbody>\n",
       "</table>\n",
       "</div>"
      ],
      "text/plain": [
       "   job_title             location connection  fit job_title_cleaned\n",
       "46   Student  Houston, Texas Area          4  NaN           Student"
      ]
     },
     "execution_count": 40,
     "metadata": {},
     "output_type": "execute_result"
    }
   ],
   "source": [
    "df[df['job_title']=='Student']"
   ]
  },
  {
   "cell_type": "code",
   "execution_count": 55,
   "id": "56442d6b-eb43-4533-8860-a492d8864d3a",
   "metadata": {},
   "outputs": [],
   "source": [
    "# Rank job title sentences based on their similarity to target sentence\n",
    "target = sentence_to_avg(\"Aspiring human resources\", words_vector_map)\n",
    "rank = df[\"job_title_cleaned\"].apply(calculate_sim).rank(ascending = False)\n",
    "\n",
    "# Add 1 to all of the ranks and then change rank of 'student'\n",
    "rank += 1\n",
    "rank[46] = 1\n",
    "\n",
    "# Create temporary dataframe with sentence vectors\n",
    "t_f = lambda x: sentence_to_avg(x, words_vector_map)\n",
    "temp_df = pd.DataFrame(df['job_title_cleaned'].apply(t_f).to_list())\n",
    "\n",
    "# Add rank and job_title columns to dataframe\n",
    "temp_df.insert(50,\"rank\", rank)\n",
    "temp_df.insert(51,\"job_title\", df[['job_title']])\n",
    "\n",
    "# Shuffle the dataframe\n",
    "temp_df = temp_df.sample(frac = 1).reset_index(drop = True)\n",
    "\n",
    "# Get length of train set\n",
    "len_train_df = int(temp_df.shape[0] * 0.8)\n",
    "\n",
    "# I need to make sure that \"Student is in training set\"\n",
    "idx = temp_df[temp_df['job_title']=='Student'].index[0]\n",
    "\n",
    "while idx >= len_train_df:\n",
    "    temp_df = temp_df.sample(frac = 1).reset_index(drop = True)\n",
    "    idx = temp_df[temp_df['job_title']=='Student'].index[0]\n",
    "\n",
    "# Get X and y from dataset. Convert them to numpy array. Also got job titles as series\n",
    "X = temp_df.drop(['rank', 'job_title'], axis = 1).values\n",
    "y = temp_df['rank'].astype('int').values\n",
    "jt = temp_df['job_title'].values\n",
    "    \n",
    "# Split data to train and test sets\n",
    "X_train, X_test = X[:len_train_df], X[len_train_df:]\n",
    "y_train, y_test = y[:len_train_df], y[len_train_df:]\n",
    "jt_train, jt_test = jt[:len_train_df], jt[len_train_df:]\n",
    "\n",
    "# Get combinations of features and probabilities of dataset\n",
    "Xi_train, Xj_train, Pij_train, job_titles_train, pair_id_train = comb(X_train, y_train, jt_train)\n",
    "Xi_test, Xj_test, Pij_test, job_titles_test, pair_id_test = comb(X_test, y_test, jt_test)"
   ]
  },
  {
   "cell_type": "code",
   "execution_count": 56,
   "id": "7a58dffe-baa8-4d79-b6b9-ea8d1dab9597",
   "metadata": {},
   "outputs": [],
   "source": [
    "# Initialize the model\n",
    "re_ranknet = RankNet()\n",
    "re_ranknet.compile(optimizer='adam', loss='binary_crossentropy')"
   ]
  },
  {
   "cell_type": "code",
   "execution_count": 57,
   "id": "feb1c35f-1c06-4105-a6ae-a4f98a1880b0",
   "metadata": {},
   "outputs": [
    {
     "name": "stdout",
     "output_type": "stream",
     "text": [
      "Epoch 1/10\n",
      "861/861 [==============================] - 4s 3ms/step - loss: 0.3839 - val_loss: 0.1901\n",
      "Epoch 2/10\n",
      "861/861 [==============================] - 3s 4ms/step - loss: 0.1406 - val_loss: 0.2158\n",
      "Epoch 3/10\n",
      "861/861 [==============================] - 3s 3ms/step - loss: 0.1143 - val_loss: 0.1920\n",
      "Epoch 4/10\n",
      "861/861 [==============================] - 2s 2ms/step - loss: 0.0969 - val_loss: 0.1601\n",
      "Epoch 5/10\n",
      "861/861 [==============================] - 2s 2ms/step - loss: 0.0711 - val_loss: 0.1428\n",
      "Epoch 6/10\n",
      "861/861 [==============================] - 3s 4ms/step - loss: 0.0728 - val_loss: 0.2044\n",
      "Epoch 7/10\n",
      "861/861 [==============================] - 7s 8ms/step - loss: 0.0589 - val_loss: 0.2300\n",
      "Epoch 8/10\n",
      "861/861 [==============================] - 3s 4ms/step - loss: 0.0632 - val_loss: 0.2034\n",
      "Epoch 9/10\n",
      "861/861 [==============================] - 3s 3ms/step - loss: 0.0462 - val_loss: 0.2111\n",
      "Epoch 10/10\n",
      "861/861 [==============================] - 2s 2ms/step - loss: 0.0421 - val_loss: 0.2262\n"
     ]
    }
   ],
   "source": [
    "# Run the model for 10 epochs\n",
    "history = re_ranknet.fit([Xi_train, Xj_train], Pij_train, epochs=10, batch_size=1, validation_data=([Xi_test, Xj_test], Pij_test))"
   ]
  },
  {
   "cell_type": "code",
   "execution_count": 58,
   "id": "41e48e62-a1df-4390-a652-8e3581613ea1",
   "metadata": {},
   "outputs": [
    {
     "name": "stdout",
     "output_type": "stream",
     "text": [
      "WARNING:tensorflow:6 out of the last 11 calls to <function Model.make_predict_function.<locals>.predict_function at 0x7faca4c23b70> triggered tf.function retracing. Tracing is expensive and the excessive number of tracings could be due to (1) creating @tf.function repeatedly in a loop, (2) passing tensors with different shapes, (3) passing Python objects instead of tensors. For (1), please define your @tf.function outside of the loop. For (2), @tf.function has experimental_relax_shapes=True option that relaxes argument shapes that can avoid unnecessary retracing. For (3), please refer to https://www.tensorflow.org/guide/function#controlling_retracing and https://www.tensorflow.org/api_docs/python/tf/function for  more details.\n"
     ]
    },
    {
     "data": {
      "text/html": [
       "<div>\n",
       "<style scoped>\n",
       "    .dataframe tbody tr th:only-of-type {\n",
       "        vertical-align: middle;\n",
       "    }\n",
       "\n",
       "    .dataframe tbody tr th {\n",
       "        vertical-align: top;\n",
       "    }\n",
       "\n",
       "    .dataframe thead th {\n",
       "        text-align: right;\n",
       "    }\n",
       "</style>\n",
       "<table border=\"1\" class=\"dataframe\">\n",
       "  <thead>\n",
       "    <tr style=\"text-align: right;\">\n",
       "      <th></th>\n",
       "      <th>ranked_test_set</th>\n",
       "      <th>ranked_predicted_set</th>\n",
       "    </tr>\n",
       "  </thead>\n",
       "  <tbody>\n",
       "    <tr>\n",
       "      <th>0</th>\n",
       "      <td>Aspiring Human Resources Professional</td>\n",
       "      <td>Director of Human Resources North America, Gro...</td>\n",
       "    </tr>\n",
       "    <tr>\n",
       "      <th>1</th>\n",
       "      <td>Seeking Human Resources HRIS and Generalist Po...</td>\n",
       "      <td>Native English Teacher at EPIK (English Progra...</td>\n",
       "    </tr>\n",
       "    <tr>\n",
       "      <th>2</th>\n",
       "      <td>Human Resources Management Major</td>\n",
       "      <td>Human Resources Management Major</td>\n",
       "    </tr>\n",
       "    <tr>\n",
       "      <th>3</th>\n",
       "      <td>Seeking Human  Resources Opportunities. Open t...</td>\n",
       "      <td>Seeking Human  Resources Opportunities. Open t...</td>\n",
       "    </tr>\n",
       "    <tr>\n",
       "      <th>4</th>\n",
       "      <td>Student at Humber College and Aspiring Human R...</td>\n",
       "      <td>Student at Humber College and Aspiring Human R...</td>\n",
       "    </tr>\n",
       "    <tr>\n",
       "      <th>5</th>\n",
       "      <td>Human Resources Generalist at Schwan's</td>\n",
       "      <td>Director Of Administration at Excellence Logging</td>\n",
       "    </tr>\n",
       "    <tr>\n",
       "      <th>6</th>\n",
       "      <td>Human Resources Specialist at Luxottica</td>\n",
       "      <td>Seeking Human Resources HRIS and Generalist Po...</td>\n",
       "    </tr>\n",
       "    <tr>\n",
       "      <th>7</th>\n",
       "      <td>Director of Human Resources North America, Gro...</td>\n",
       "      <td>Aspiring Human Resources Professional</td>\n",
       "    </tr>\n",
       "    <tr>\n",
       "      <th>8</th>\n",
       "      <td>Director Of Administration at Excellence Logging</td>\n",
       "      <td>Human Resources Specialist at Luxottica</td>\n",
       "    </tr>\n",
       "    <tr>\n",
       "      <th>9</th>\n",
       "      <td>Always set them up for Success</td>\n",
       "      <td>Always set them up for Success</td>\n",
       "    </tr>\n",
       "    <tr>\n",
       "      <th>10</th>\n",
       "      <td>Native English Teacher at EPIK (English Progra...</td>\n",
       "      <td>Human Resources Generalist at Schwan's</td>\n",
       "    </tr>\n",
       "  </tbody>\n",
       "</table>\n",
       "</div>"
      ],
      "text/plain": [
       "                                      ranked_test_set  \\\n",
       "0               Aspiring Human Resources Professional   \n",
       "1   Seeking Human Resources HRIS and Generalist Po...   \n",
       "2                    Human Resources Management Major   \n",
       "3   Seeking Human  Resources Opportunities. Open t...   \n",
       "4   Student at Humber College and Aspiring Human R...   \n",
       "5              Human Resources Generalist at Schwan's   \n",
       "6             Human Resources Specialist at Luxottica   \n",
       "7   Director of Human Resources North America, Gro...   \n",
       "8    Director Of Administration at Excellence Logging   \n",
       "9                      Always set them up for Success   \n",
       "10  Native English Teacher at EPIK (English Progra...   \n",
       "\n",
       "                                 ranked_predicted_set  \n",
       "0   Director of Human Resources North America, Gro...  \n",
       "1   Native English Teacher at EPIK (English Progra...  \n",
       "2                    Human Resources Management Major  \n",
       "3   Seeking Human  Resources Opportunities. Open t...  \n",
       "4   Student at Humber College and Aspiring Human R...  \n",
       "5    Director Of Administration at Excellence Logging  \n",
       "6   Seeking Human Resources HRIS and Generalist Po...  \n",
       "7               Aspiring Human Resources Professional  \n",
       "8             Human Resources Specialist at Luxottica  \n",
       "9                      Always set them up for Success  \n",
       "10             Human Resources Generalist at Schwan's  "
      ]
     },
     "execution_count": 58,
     "metadata": {},
     "output_type": "execute_result"
    }
   ],
   "source": [
    "# Make predictions\n",
    "y_pred = re_ranknet.predict([Xi_test, Xj_test])\n",
    "\n",
    "# Write a function to convert predicted values from sigmoid to 0 and 1's. Apply it to predicted values\n",
    "conv_func = lambda x: 1 if x > 0.5 else 0\n",
    "y_pred = testset_df['y_predicted'].apply(conv_func)\n",
    "\n",
    "d = {}    \n",
    "\n",
    "# Create zero values keys in dictionary for each index value from pair indices of test set\n",
    "for i in np.unique(pair_id_test):\n",
    "    d[i] = 0\n",
    "\n",
    "# Loop through pair indices of test set, to identify strongest indices. Bubble sort\n",
    "for i, pair in enumerate(pair_id_test):\n",
    "    if y_pred[i]==0:\n",
    "        d[pair[1]] += 1\n",
    "    else:\n",
    "        d[pair[0]] += 1\n",
    "\n",
    "# Sort dictionary based on values (highest rank first). Then capture indices only from list of pairs\n",
    "d = sorted(d.items(), key = lambda item: item[1], reverse = True)\n",
    "predicted_indices = np.array(d)[:,0]\n",
    "\n",
    "# Enumerate list to get indeces of test set\n",
    "y_test_enumerated = list(enumerate(y_test))\n",
    "\n",
    "# Sort them based on rank, and preserve these indices in list\n",
    "y_test_enumerated = sorted(y_test_enumerated, key = lambda x: x[1])\n",
    "y_test_adjusted = [x[0] for x in y_test_enumerated]\n",
    "\n",
    "# Create dataframe for assessing predicted ranks \n",
    "result_df = pd.DataFrame({'ranked_test_set':jt_test[y_test_adjusted], 'ranked_predicted_set':jt_test[predicted_indices]})\n",
    "result_df.head(15)"
   ]
  },
  {
   "cell_type": "markdown",
   "id": "dae2064f-78c7-4285-8e76-ec598fcda08b",
   "metadata": {},
   "source": [
    "As you can see from results, potential talents that have student in title or somehow related to universities are now higher in rank. So by starring some of the talents, we can rank this type of people higher automatically."
   ]
  },
  {
   "cell_type": "markdown",
   "id": "a3e90773-04f2-44fe-8230-3a8aaf787e79",
   "metadata": {},
   "source": [
    "## Conclusion\n",
    "\n",
    "Objectives of this project was fully reached. I utilized different techniques in this project, including:\n",
    "- Used word embeddings to solve sentence analogy problems\n",
    "- Measured similarity between sentence vectors using cosine similarity\n",
    "- Ranked sentences based on their similarities\n",
    "- Implemented RankNet algorithm to rank candidates\n",
    "- Prepared input data for pairwise comparison"
   ]
  }
 ],
 "metadata": {
  "kernelspec": {
   "display_name": "Python 3 (ipykernel)",
   "language": "python",
   "name": "python3"
  },
  "language_info": {
   "codemirror_mode": {
    "name": "ipython",
    "version": 3
   },
   "file_extension": ".py",
   "mimetype": "text/x-python",
   "name": "python",
   "nbconvert_exporter": "python",
   "pygments_lexer": "ipython3",
   "version": "3.7.3"
  }
 },
 "nbformat": 4,
 "nbformat_minor": 5
}
